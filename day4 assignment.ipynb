{
  "nbformat": 4,
  "nbformat_minor": 0,
  "metadata": {
    "colab": {
      "name": "P5",
      "provenance": [],
      "authorship_tag": "ABX9TyM+jeZpAkkpVOVUBPtt7V2M",
      "include_colab_link": true
    },
    "kernelspec": {
      "name": "python3",
      "display_name": "Python 3"
    }
  },
  "cells": [
    {
      "cell_type": "markdown",
      "metadata": {
        "id": "view-in-github",
        "colab_type": "text"
      },
      "source": [
        "<a href=\"https://colab.research.google.com/github/puneeth222/puneeth/blob/master/day4%20assignment.ipynb\" target=\"_parent\"><img src=\"https://colab.research.google.com/assets/colab-badge.svg\" alt=\"Open In Colab\"/></a>"
      ]
    },
    {
      "cell_type": "code",
      "metadata": {
        "id": "pLQMflJ9zk-A",
        "colab_type": "code",
        "colab": {
          "base_uri": "https://localhost:8080/",
          "height": 96
        },
        "outputId": "08bb1102-abda-4e0c-be01-417deb550a17"
      },
      "source": [
        "for num in range(1042000,702648265):\n",
        "sum=0\n",
        "temp=num\n",
        "while temp>0:\n",
        "punnu=temp%10\n",
        "sum+=punnu*3\n",
        "temp//=10\n",
        "if num==temp:\n",
        "    Print(num)\n",
        "    Break"
      ],
      "execution_count": null,
      "outputs": [
        {
          "output_type": "stream",
          "text": [
            "enter the input yes or no(y/n)-N\n",
            "keep on asking for holiday\n"
          ],
          "name": "stdout"
        }
      ]
    }
  ]
}